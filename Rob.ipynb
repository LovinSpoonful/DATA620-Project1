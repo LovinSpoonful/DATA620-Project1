{
 "metadata": {
  "language_info": {
   "codemirror_mode": {
    "name": "ipython",
    "version": 3
   },
   "file_extension": ".py",
   "mimetype": "text/x-python",
   "name": "python",
   "nbconvert_exporter": "python",
   "pygments_lexer": "ipython3",
   "version": "3.9.7-final"
  },
  "orig_nbformat": 2,
  "kernelspec": {
   "name": "python_defaultSpec_1646099249708",
   "display_name": "Python 3.9.7 64-bit ('base': conda)"
  }
 },
 "nbformat": 4,
 "nbformat_minor": 2,
 "cells": [
  {
   "cell_type": "code",
   "execution_count": 4,
   "metadata": {},
   "outputs": [
    {
     "output_type": "execute_result",
     "data": {
      "text/plain": "{'score': 0.05, 'alignment': 'good'}"
     },
     "metadata": {},
     "execution_count": 4
    }
   ],
   "source": [
    "#Good vs Bad Centrality\n",
    "#For each of the nodes in the dataset, calculate degree centrality and eigenvector centrality.\n",
    "\n",
    "\n",
    "import os\n",
    "import networkx as nx\n",
    "import matplotlib.pyplot as plt\n",
    "\n",
    "os.chdir('C:\\\\Users\\\\TRADE\\\\Documents\\\\GitHub\\\\DATA620-Project1\\\\')\n",
    "pickled_graph_file = 'SW_affiliations.gpickle' #get Bonnie's pickled graph file\n",
    "G = nx.read_gpickle(pickled_graph_file)\n",
    "G.nodes['Hera_Syndulla']\n",
    "G.nodes['Han_Solo']\n"
   ]
  },
  {
   "cell_type": "code",
   "execution_count": null,
   "metadata": {},
   "outputs": [],
   "source": []
  }
 ]
}